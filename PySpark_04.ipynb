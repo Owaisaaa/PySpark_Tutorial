{
 "cells": [
  {
   "cell_type": "markdown",
   "metadata": {},
   "source": [
    "# Filter Operation on Pyspark Dataframe\n",
    "- &, |, ==\n",
    "- ~"
   ]
  },
  {
   "cell_type": "code",
   "execution_count": 1,
   "metadata": {},
   "outputs": [
    {
     "name": "stderr",
     "output_type": "stream",
     "text": [
      "c:\\python36\\lib\\site-packages\\pyspark\\context.py:238: FutureWarning: Python 3.6 support is deprecated in Spark 3.2.\n",
      "  FutureWarning\n"
     ]
    }
   ],
   "source": [
    "from pyspark.sql import SparkSession\n",
    "spark=SparkSession.builder.appName('dataframe').getOrCreate()"
   ]
  },
  {
   "cell_type": "code",
   "execution_count": 6,
   "metadata": {},
   "outputs": [],
   "source": [
    "df_pyspark=spark.read.csv('Test.csv',header=True,inferSchema=True)"
   ]
  },
  {
   "cell_type": "code",
   "execution_count": 7,
   "metadata": {},
   "outputs": [
    {
     "name": "stdout",
     "output_type": "stream",
     "text": [
      "+------+---+----------+------+\n",
      "|  Name|Age|Experience|Salary|\n",
      "+------+---+----------+------+\n",
      "| Owais| 34|         7| 40000|\n",
      "|Zubair| 35|        10| 45000|\n",
      "| Aijaz| 34|         2| 25000|\n",
      "| Bilal| 35|         8| 70000|\n",
      "|Ishfaq| 28|         4| 22000|\n",
      "+------+---+----------+------+\n",
      "\n"
     ]
    }
   ],
   "source": [
    "df_pyspark.na.drop().show()"
   ]
  },
  {
   "cell_type": "markdown",
   "metadata": {},
   "source": [
    "# Filter Operations"
   ]
  },
  {
   "cell_type": "code",
   "execution_count": 8,
   "metadata": {},
   "outputs": [
    {
     "name": "stdout",
     "output_type": "stream",
     "text": [
      "+------+----+----------+------+\n",
      "|  Name| Age|Experience|Salary|\n",
      "+------+----+----------+------+\n",
      "| Owais|  34|         7| 40000|\n",
      "|Zubair|  35|        10| 45000|\n",
      "| Aijaz|  34|         2| 25000|\n",
      "| Bilal|  35|         8| 70000|\n",
      "|Ishfaq|  28|         4| 22000|\n",
      "|Sameer|null|      null| 38000|\n",
      "|  null|  46|         9| 41000|\n",
      "+------+----+----------+------+\n",
      "\n"
     ]
    }
   ],
   "source": [
    "# Salary greater or equal to 20000\n",
    "df_pyspark.filter(\"Salary>=20000\").show()"
   ]
  },
  {
   "cell_type": "code",
   "execution_count": 9,
   "metadata": {},
   "outputs": [
    {
     "name": "stdout",
     "output_type": "stream",
     "text": [
      "+------+----+\n",
      "|  Name| Age|\n",
      "+------+----+\n",
      "| Owais|  34|\n",
      "|Zubair|  35|\n",
      "| Aijaz|  34|\n",
      "| Bilal|  35|\n",
      "|Ishfaq|  28|\n",
      "|Sameer|null|\n",
      "|  null|  46|\n",
      "+------+----+\n",
      "\n"
     ]
    }
   ],
   "source": [
    "# To selwct particular column/s based on a condition\n",
    "df_pyspark.filter('Salary>=20000').select(['Name','Age']).show()"
   ]
  },
  {
   "cell_type": "code",
   "execution_count": 13,
   "metadata": {},
   "outputs": [
    {
     "name": "stdout",
     "output_type": "stream",
     "text": [
      "+------+----+----------+------+\n",
      "|  Name| Age|Experience|Salary|\n",
      "+------+----+----------+------+\n",
      "| Owais|  34|         7| 40000|\n",
      "|Zubair|  35|        10| 45000|\n",
      "| Aijaz|  34|         2| 25000|\n",
      "| Bilal|  35|         8| 70000|\n",
      "|Ishfaq|  28|         4| 22000|\n",
      "|Sameer|null|      null| 38000|\n",
      "|  null|  46|         9| 41000|\n",
      "+------+----+----------+------+\n",
      "\n"
     ]
    }
   ],
   "source": [
    "# Another way of selecting\n",
    "df_pyspark.filter(df_pyspark['Salary']>=20000).show()"
   ]
  },
  {
   "cell_type": "code",
   "execution_count": 15,
   "metadata": {},
   "outputs": [
    {
     "name": "stdout",
     "output_type": "stream",
     "text": [
      "+------+---+----------+------+\n",
      "|  Name|Age|Experience|Salary|\n",
      "+------+---+----------+------+\n",
      "| Aijaz| 34|         2| 25000|\n",
      "|Ishfaq| 28|         4| 22000|\n",
      "+------+---+----------+------+\n",
      "\n"
     ]
    }
   ],
   "source": [
    "df_pyspark.filter((df_pyspark['Salary']>=20000) & \n",
    "                  (df_pyspark['Salary']<=35000)).show()  # we can use OR (|) operation as well"
   ]
  },
  {
   "cell_type": "code",
   "execution_count": 18,
   "metadata": {},
   "outputs": [
    {
     "name": "stdout",
     "output_type": "stream",
     "text": [
      "+------+----+----------+------+\n",
      "|  Name| Age|Experience|Salary|\n",
      "+------+----+----------+------+\n",
      "| Owais|  34|         7| 40000|\n",
      "|Zubair|  35|        10| 45000|\n",
      "| Bilal|  35|         8| 70000|\n",
      "|Sameer|null|      null| 38000|\n",
      "|  null|  46|         9| 41000|\n",
      "+------+----+----------+------+\n",
      "\n"
     ]
    }
   ],
   "source": [
    "# using NOT (~) operator\n",
    "df_pyspark.filter(~(df_pyspark['Salary']<=25000)).show()"
   ]
  },
  {
   "cell_type": "code",
   "execution_count": null,
   "metadata": {},
   "outputs": [],
   "source": []
  }
 ],
 "metadata": {
  "kernelspec": {
   "display_name": "Python 3",
   "language": "python",
   "name": "python3"
  },
  "language_info": {
   "codemirror_mode": {
    "name": "ipython",
    "version": 3
   },
   "file_extension": ".py",
   "mimetype": "text/x-python",
   "name": "python",
   "nbconvert_exporter": "python",
   "pygments_lexer": "ipython3",
   "version": "3.6.8"
  }
 },
 "nbformat": 4,
 "nbformat_minor": 4
}
