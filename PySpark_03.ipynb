{
 "cells": [
  {
   "cell_type": "markdown",
   "metadata": {},
   "source": [
    "# PySpark handling missing values\n",
    "- Dropping Rows with NaN values\n",
    "- Various parameters in dripping functionalities\n",
    "- Handling missing values by Mean, Median, Mode"
   ]
  },
  {
   "cell_type": "code",
   "execution_count": 1,
   "metadata": {},
   "outputs": [
    {
     "name": "stderr",
     "output_type": "stream",
     "text": [
      "c:\\python36\\lib\\site-packages\\pyspark\\context.py:238: FutureWarning: Python 3.6 support is deprecated in Spark 3.2.\n",
      "  FutureWarning\n"
     ]
    }
   ],
   "source": [
    "## Start Spark Session\n",
    "from pyspark.sql import SparkSession\n",
    "spark=SparkSession.builder.appName('Practice').getOrCreate()"
   ]
  },
  {
   "cell_type": "code",
   "execution_count": 2,
   "metadata": {},
   "outputs": [],
   "source": [
    "# Load dataset\n",
    "df_pyspark=spark.read.csv('Test2.csv',header=True,inferSchema=True)"
   ]
  },
  {
   "cell_type": "code",
   "execution_count": 3,
   "metadata": {},
   "outputs": [
    {
     "name": "stdout",
     "output_type": "stream",
     "text": [
      "+------+----+----------+------+\n",
      "|  Name| Age|Experience|Salary|\n",
      "+------+----+----------+------+\n",
      "| Owais|  34|         7| 40000|\n",
      "|Zubair|  35|        10| 45000|\n",
      "| Aijaz|  34|         2| 25000|\n",
      "| Bilal|  35|         8| 70000|\n",
      "|Ishfaq|  28|         4| 22000|\n",
      "|Sameer|null|      null| 38000|\n",
      "|  null|  46|         9| 41000|\n",
      "|  null|  36|      null|  null|\n",
      "+------+----+----------+------+\n",
      "\n"
     ]
    }
   ],
   "source": [
    "df_pyspark.show()"
   ]
  },
  {
   "cell_type": "code",
   "execution_count": 4,
   "metadata": {},
   "outputs": [
    {
     "name": "stdout",
     "output_type": "stream",
     "text": [
      "+------+---+----------+------+\n",
      "|  Name|Age|Experience|Salary|\n",
      "+------+---+----------+------+\n",
      "| Owais| 34|         7| 40000|\n",
      "|Zubair| 35|        10| 45000|\n",
      "| Aijaz| 34|         2| 25000|\n",
      "| Bilal| 35|         8| 70000|\n",
      "|Ishfaq| 28|         4| 22000|\n",
      "+------+---+----------+------+\n",
      "\n"
     ]
    }
   ],
   "source": [
    "# drop had 3 parameters how=any/all, thresh=integervalue, Subset  \n",
    "# drop rows with null values\n",
    "df_pyspark.na.drop().show()"
   ]
  },
  {
   "cell_type": "code",
   "execution_count": 7,
   "metadata": {},
   "outputs": [
    {
     "name": "stdout",
     "output_type": "stream",
     "text": [
      "+------+---+----------+------+\n",
      "|  Name|Age|Experience|Salary|\n",
      "+------+---+----------+------+\n",
      "| Owais| 34|         7| 40000|\n",
      "|Zubair| 35|        10| 45000|\n",
      "| Aijaz| 34|         2| 25000|\n",
      "| Bilal| 35|         8| 70000|\n",
      "|Ishfaq| 28|         4| 22000|\n",
      "+------+---+----------+------+\n",
      "\n"
     ]
    }
   ],
   "source": [
    "## how=any -> means row that have any column with null value will be deleted\n",
    "## how=all -> means row that have all columns with null value will be deleted \n",
    "df_pyspark.na.drop(how='any').show()"
   ]
  },
  {
   "cell_type": "code",
   "execution_count": 8,
   "metadata": {},
   "outputs": [
    {
     "name": "stdout",
     "output_type": "stream",
     "text": [
      "+------+----+----------+------+\n",
      "|  Name| Age|Experience|Salary|\n",
      "+------+----+----------+------+\n",
      "| Owais|  34|         7| 40000|\n",
      "|Zubair|  35|        10| 45000|\n",
      "| Aijaz|  34|         2| 25000|\n",
      "| Bilal|  35|         8| 70000|\n",
      "|Ishfaq|  28|         4| 22000|\n",
      "|Sameer|null|      null| 38000|\n",
      "|  null|  46|         9| 41000|\n",
      "+------+----+----------+------+\n",
      "\n"
     ]
    }
   ],
   "source": [
    "## threshold\n",
    "## thresh=2 means row with 2 non-null values will not be deleted \n",
    "## any row with only one null value in any of the column will be deleted \n",
    "df_pyspark.na.drop(how='any',thresh=2).show()"
   ]
  },
  {
   "cell_type": "code",
   "execution_count": 9,
   "metadata": {},
   "outputs": [
    {
     "name": "stdout",
     "output_type": "stream",
     "text": [
      "+------+---+----------+------+\n",
      "|  Name|Age|Experience|Salary|\n",
      "+------+---+----------+------+\n",
      "| Owais| 34|         7| 40000|\n",
      "|Zubair| 35|        10| 45000|\n",
      "| Aijaz| 34|         2| 25000|\n",
      "| Bilal| 35|         8| 70000|\n",
      "|Ishfaq| 28|         4| 22000|\n",
      "|  null| 46|         9| 41000|\n",
      "|  null| 36|      null|  null|\n",
      "+------+---+----------+------+\n",
      "\n"
     ]
    }
   ],
   "source": [
    "## Subset means if we want to drop a row using a particular column\n",
    "# row with null value in age column will be deleted\n",
    "df_pyspark.na.drop(how='any',subset=['Age']).show()\n"
   ]
  },
  {
   "cell_type": "code",
   "execution_count": 34,
   "metadata": {},
   "outputs": [
    {
     "name": "stdout",
     "output_type": "stream",
     "text": [
      "+-------------+----+----------+------+\n",
      "|         Name| Age|Experience|Salary|\n",
      "+-------------+----+----------+------+\n",
      "|        Owais|  34|         7| 40000|\n",
      "|       Zubair|  35|        10| 45000|\n",
      "|        Aijaz|  34|         2| 25000|\n",
      "|        Bilal|  35|         8| 70000|\n",
      "|       Ishfaq|  28|         4| 22000|\n",
      "|       Sameer|null|      null| 38000|\n",
      "|Missing Value|  46|         9| 41000|\n",
      "|Missing Value|  36|      null|  null|\n",
      "+-------------+----+----------+------+\n",
      "\n"
     ]
    }
   ],
   "source": [
    "### Filling the missing values\n",
    "# But it works on columns of type string\n",
    "df_pyspark.na.fill('Missing Value').show()"
   ]
  },
  {
   "cell_type": "code",
   "execution_count": 23,
   "metadata": {},
   "outputs": [
    {
     "name": "stdout",
     "output_type": "stream",
     "text": [
      "+------+---+----------+------+\n",
      "|  Name|Age|Experience|Salary|\n",
      "+------+---+----------+------+\n",
      "| Owais| 34|         7| 40000|\n",
      "|Zubair| 35|        10| 45000|\n",
      "| Aijaz| 34|         2| 25000|\n",
      "| Bilal| 35|         8| 70000|\n",
      "|Ishfaq| 28|         4| 22000|\n",
      "|Sameer|  0|         0| 38000|\n",
      "|  null| 46|         9| 41000|\n",
      "|  null| 36|         0|     0|\n",
      "+------+---+----------+------+\n",
      "\n"
     ]
    }
   ],
   "source": [
    "### Filling the missing values\n",
    "# Here we can check null value is replaced by 0 in columns of type integer\n",
    "# Name column is of type string so we can see null is not replaced\n",
    "df_pyspark.na.fill(0).show()"
   ]
  },
  {
   "cell_type": "code",
   "execution_count": 28,
   "metadata": {},
   "outputs": [
    {
     "name": "stdout",
     "output_type": "stream",
     "text": [
      "+------+---+----------+------+\n",
      "|  Name|Age|Experience|Salary|\n",
      "+------+---+----------+------+\n",
      "| Owais| 34|         7| 40000|\n",
      "|Zubair| 35|        10| 45000|\n",
      "| Aijaz| 34|         2| 25000|\n",
      "| Bilal| 35|         8| 70000|\n",
      "|Ishfaq| 28|         4| 22000|\n",
      "|Sameer|  0|         0| 38000|\n",
      "|  null| 46|         9| 41000|\n",
      "|  null| 36|         0|  null|\n",
      "+------+---+----------+------+\n",
      "\n"
     ]
    }
   ],
   "source": [
    "# Replace null on particular columns\n",
    "df_pyspark.na.fill(0,['Age','Experience']).show()"
   ]
  },
  {
   "cell_type": "code",
   "execution_count": 29,
   "metadata": {},
   "outputs": [
    {
     "name": "stdout",
     "output_type": "stream",
     "text": [
      "+------+----+----------+------+\n",
      "|  Name| Age|Experience|Salary|\n",
      "+------+----+----------+------+\n",
      "| Owais|  34|         7| 40000|\n",
      "|Zubair|  35|        10| 45000|\n",
      "| Aijaz|  34|         2| 25000|\n",
      "| Bilal|  35|         8| 70000|\n",
      "|Ishfaq|  28|         4| 22000|\n",
      "|Sameer|null|      null| 38000|\n",
      "|  null|  46|         9| 41000|\n",
      "|  null|  36|      null|  null|\n",
      "+------+----+----------+------+\n",
      "\n"
     ]
    }
   ],
   "source": [
    "df_pyspark.show()"
   ]
  },
  {
   "cell_type": "markdown",
   "metadata": {},
   "source": [
    "# Now we will use the imputer function to replace null values with mean/median/mode\n",
    "# imputer functions are also used in scikit learn as well"
   ]
  },
  {
   "cell_type": "code",
   "execution_count": 32,
   "metadata": {},
   "outputs": [],
   "source": [
    "from pyspark.ml.feature import Imputer\n",
    "\n",
    "imputer=Imputer(\n",
    "    inputCols=['Age','Experience','Salary'],\n",
    "    outputCols=[\"{}_imputed\".format(c) for c in ['Age','Experience','Salary']]).setStrategy(\"mean\") # can use mean/median/mode"
   ]
  },
  {
   "cell_type": "code",
   "execution_count": 33,
   "metadata": {},
   "outputs": [
    {
     "name": "stdout",
     "output_type": "stream",
     "text": [
      "+------+----+----------+------+-----------+------------------+--------------+\n",
      "|  Name| Age|Experience|Salary|Age_imputed|Experience_imputed|Salary_imputed|\n",
      "+------+----+----------+------+-----------+------------------+--------------+\n",
      "| Owais|  34|         7| 40000|         34|                 7|         40000|\n",
      "|Zubair|  35|        10| 45000|         35|                10|         45000|\n",
      "| Aijaz|  34|         2| 25000|         34|                 2|         25000|\n",
      "| Bilal|  35|         8| 70000|         35|                 8|         70000|\n",
      "|Ishfaq|  28|         4| 22000|         28|                 4|         22000|\n",
      "|Sameer|null|      null| 38000|         35|                 6|         38000|\n",
      "|  null|  46|         9| 41000|         46|                 9|         41000|\n",
      "|  null|  36|      null|  null|         36|                 6|         40142|\n",
      "+------+----+----------+------+-----------+------------------+--------------+\n",
      "\n"
     ]
    }
   ],
   "source": [
    "# Add imputation cols to df\n",
    "imputer.fit(df_pyspark).transform(df_pyspark).show()"
   ]
  },
  {
   "cell_type": "code",
   "execution_count": null,
   "metadata": {},
   "outputs": [],
   "source": []
  }
 ],
 "metadata": {
  "kernelspec": {
   "display_name": "Python 3",
   "language": "python",
   "name": "python3"
  },
  "language_info": {
   "codemirror_mode": {
    "name": "ipython",
    "version": 3
   },
   "file_extension": ".py",
   "mimetype": "text/x-python",
   "name": "python",
   "nbconvert_exporter": "python",
   "pygments_lexer": "ipython3",
   "version": "3.6.8"
  }
 },
 "nbformat": 4,
 "nbformat_minor": 4
}
